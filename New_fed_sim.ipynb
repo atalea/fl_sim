{
 "cells": [
  {
   "cell_type": "code",
   "execution_count": null,
   "id": "901ea3e5",
   "metadata": {},
   "outputs": [],
   "source": [
    "from tqdm import tqdm\n",
    "for i in range(1, 100):\n",
    "    print(tqdm[i])"
   ]
  },
  {
   "cell_type": "code",
   "execution_count": null,
   "id": "c39e0fa7",
   "metadata": {},
   "outputs": [],
   "source": []
  }
 ],
 "metadata": {
  "kernelspec": {
   "display_name": "Python 3",
   "language": "python",
   "name": "python3"
  },
  "language_info": {
   "codemirror_mode": {
    "name": "ipython",
    "version": 3
   },
   "file_extension": ".py",
   "mimetype": "text/x-python",
   "name": "python",
   "nbconvert_exporter": "python",
   "pygments_lexer": "ipython3",
   "version": "3.7.4"
  }
 },
 "nbformat": 4,
 "nbformat_minor": 5
}
